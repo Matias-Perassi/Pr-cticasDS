{
 "cells": [
  {
   "cell_type": "markdown",
   "metadata": {},
   "source": [
    "PRÁCTICAS PYHTON CLASE 6 - NUMPY"
   ]
  },
  {
   "cell_type": "code",
   "execution_count": 19,
   "metadata": {},
   "outputs": [
    {
     "name": "stdout",
     "output_type": "stream",
     "text": [
      "     PrimerSerie  SegundaSerie\n",
      "1ro          1.0           NaN\n",
      "2do          2.0           NaN\n",
      "3ro          3.0           NaN\n",
      "4to          4.0           NaN\n",
      "5to          5.0           NaN\n",
      "0            NaN           5.0\n",
      "1            NaN           4.0\n",
      "2            NaN           3.0\n",
      "3            NaN           2.0\n",
      "4            NaN           1.0\n",
      "     PrimerSerie  SegundaSerie\n",
      "1ro          1.0           NaN\n",
      "2do          2.0           NaN\n",
      "3ro          3.0           NaN\n",
      "4to          4.0           NaN\n",
      "5to          5.0           NaN\n",
      "0            NaN           5.0\n",
      "1            NaN           4.0\n",
      "2            NaN           3.0\n",
      "3            NaN           2.0\n",
      "4            NaN           1.0\n"
     ]
    }
   ],
   "source": [
    "import pandas as pd\n",
    "import numpy as numpy\n",
    "\n",
    "lista1 = [1,2,3,4,5]\n",
    "indices = ['1ro','2do','3ro','4to','5to']\n",
    "serie1 = pd.Series(lista1, index = indices)\n",
    "\n",
    "lista2 = [5,4,3,2,1]\n",
    "\n",
    "serie2 = pd.Series(lista2)\n",
    "\n",
    "dataFrame1 = pd.DataFrame({'PrimerSerie':serie1,'SegundaSerie':serie2})\n",
    "\n",
    "print(dataFrame1)\n",
    "\n",
    "dataFrame1.fillna\n",
    "\n",
    "print(dataFrame1)"
   ]
  },
  {
   "cell_type": "code",
   "execution_count": null,
   "metadata": {},
   "outputs": [],
   "source": []
  }
 ],
 "metadata": {
  "kernelspec": {
   "display_name": "Python 3",
   "language": "python",
   "name": "python3"
  },
  "language_info": {
   "codemirror_mode": {
    "name": "ipython",
    "version": 3
   },
   "file_extension": ".py",
   "mimetype": "text/x-python",
   "name": "python",
   "nbconvert_exporter": "python",
   "pygments_lexer": "ipython3",
   "version": "3.11.7"
  }
 },
 "nbformat": 4,
 "nbformat_minor": 2
}
