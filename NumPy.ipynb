{
 "cells": [
  {
   "cell_type": "markdown",
   "metadata": {},
   "source": [
    "PRÁCTICAS PYHTON CLASE 6 - NUMPY"
   ]
  },
  {
   "cell_type": "code",
   "execution_count": 48,
   "metadata": {},
   "outputs": [
    {
     "name": "stdout",
     "output_type": "stream",
     "text": [
      "Array dividido solo: [[3 0 7 4 0]\n",
      " [1 2 3 5 6]]\n",
      "Nuevo array apilado vertical [[ 1  2  3  4  5]\n",
      " [ 6  7  8  9 10]\n",
      " [ 3  0  7  4  0]\n",
      " [ 1  2  3  5  6]]\n",
      "Array dividido solo: [[3 0 7 4 0]\n",
      " [1 2 3 5 6]]\n",
      "Nuevo array apilado horizontal [[ 1  2  3  4  5  3  0  7  4  0]\n",
      " [ 6  7  8  9 10  1  2  3  5  6]]\n"
     ]
    }
   ],
   "source": [
    "import pandas as pd\n",
    "import numpy as np\n",
    "\n",
    "\n",
    "lista1 = [1,2,3,4,5]\n",
    "indices = ['1ro','2do','3ro','4to','5to']\n",
    "\n",
    "serie1 = pd.Series(lista1, index = indices)\n",
    "\n",
    "lista2 = [5,4,3,2,1]\n",
    "\n",
    "serie2 = pd.Series(lista2)\n",
    "\n",
    "dataFrame1 = pd.DataFrame({'PrimerSerie':serie1,'SegundaSerie':serie2})\n",
    "\n",
    "dataFrame1.fillna(0, inplace = True)\n",
    "\n",
    "#Creo un array de 5 números aleatorios\n",
    "aray = np.random.randint(10,size=5)\n",
    "\n",
    "#Creo otro array con 4 componentes\n",
    "aray1 = np.array([1,2,3,5,6], dtype=int)\n",
    "\n",
    "#concateno los arrays. El primer array que ponga es el primero en concatenarse\n",
    "aray_concatenado = np.concatenate([aray,aray1])\n",
    "\n",
    "#Lo divido en 2\n",
    "\n",
    "aray_dividido = aray_concatenado.reshape((2,5))\n",
    "\n",
    "#Apilo 2 arrays de igual dimensiones de forma vertical\n",
    "\n",
    "aray_temporal = np.array([[1,2,3,4,5],[6,7,8,9,10]])\n",
    "\n",
    "aray_apilado_vertical = np.vstack([aray_temporal, aray_dividido])\n",
    "print(f'Array dividido solo:',aray_dividido)\n",
    "print(f'Nuevo array apilado vertical',aray_apilado_vertical)\n",
    "\n",
    "#Apilo los arrays horizontal. En éste caso queda un array de 2 dimensiones y se agregan los elementos al final de cada array\n",
    "\n",
    "aray_apilado_horizontal = np.hstack([aray_temporal, aray_dividido])\n",
    "print(f'Array dividido solo:',aray_dividido)\n",
    "print(f'Nuevo array apilado horizontal',aray_apilado_horizontal)"
   ]
  },
  {
   "cell_type": "code",
   "execution_count": null,
   "metadata": {},
   "outputs": [],
   "source": []
  }
 ],
 "metadata": {
  "kernelspec": {
   "display_name": "Python 3",
   "language": "python",
   "name": "python3"
  },
  "language_info": {
   "codemirror_mode": {
    "name": "ipython",
    "version": 3
   },
   "file_extension": ".py",
   "mimetype": "text/x-python",
   "name": "python",
   "nbconvert_exporter": "python",
   "pygments_lexer": "ipython3",
   "version": "3.11.7"
  }
 },
 "nbformat": 4,
 "nbformat_minor": 2
}
